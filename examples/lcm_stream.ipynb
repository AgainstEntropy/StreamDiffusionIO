{
 "cells": [
  {
   "cell_type": "code",
   "execution_count": 1,
   "metadata": {},
   "outputs": [
    {
     "name": "stderr",
     "output_type": "stream",
     "text": [
      "/vast/yw7486/miniconda3/envs/kanji/lib/python3.10/site-packages/tqdm/auto.py:21: TqdmWarning: IProgress not found. Please update jupyter and ipywidgets. See https://ipywidgets.readthedocs.io/en/stable/user_install.html\n",
      "  from .autonotebook import tqdm as notebook_tqdm\n",
      "/vast/yw7486/miniconda3/envs/kanji/lib/python3.10/site-packages/diffusers/utils/outputs.py:63: UserWarning: torch.utils._pytree._register_pytree_node is deprecated. Please use torch.utils._pytree.register_pytree_node instead.\n",
      "  torch.utils._pytree._register_pytree_node(\n",
      "/vast/yw7486/miniconda3/envs/kanji/lib/python3.10/site-packages/diffusers/utils/outputs.py:63: UserWarning: torch.utils._pytree._register_pytree_node is deprecated. Please use torch.utils._pytree.register_pytree_node instead.\n",
      "  torch.utils._pytree._register_pytree_node(\n"
     ]
    }
   ],
   "source": [
    "import torch\n",
    "\n",
    "from StreamDiffusionIO import LatentConsistencyModelStreamIO\n",
    "\n",
    "%load_ext autoreload\n",
    "%autoreload 2"
   ]
  },
  {
   "cell_type": "code",
   "execution_count": 4,
   "metadata": {},
   "outputs": [],
   "source": [
    "if torch.cuda.is_available():\n",
    "    device = \"cuda\"\n",
    "    use_xformers = True\n",
    "else:\n",
    "    device = \"cpu\"\n",
    "    use_xformers = False\n",
    "\n",
    "\n",
    "model_id_or_path = \"runwayml/stable-diffusion-v1-5\"\n",
    "lora_path = \"/path/to/lora/pytorch_lora_weights.safetensors\"\n",
    "lcm_lora_path = \"/path/to/lcm-lora/pytorch_lora_weights.safetensors\"\n",
    "\n",
    "stream = LatentConsistencyModelStreamIO(\n",
    "    model_id_or_path=model_id_or_path,\n",
    "    lcm_lora_path=lcm_lora_path,\n",
    "    lora_dict={lora_path: 1},\n",
    "    resolution=128,\n",
    "    device=device,\n",
    "    use_xformers=use_xformers,\n",
    ")"
   ]
  },
  {
   "cell_type": "code",
   "execution_count": 6,
   "metadata": {},
   "outputs": [
    {
     "data": {
      "text/plain": [
       "['Today',\n",
       " 'I',\n",
       " 'saw',\n",
       " 'a',\n",
       " 'beautiful',\n",
       " 'sunset',\n",
       " 'and',\n",
       " 'it',\n",
       " 'made',\n",
       " 'me',\n",
       " 'feel',\n",
       " 'so',\n",
       " 'happy.']"
      ]
     },
     "execution_count": 6,
     "metadata": {},
     "output_type": "execute_result"
    }
   ],
   "source": [
    "text = \"Today I saw a beautiful sunset and it made me feel so happy.\"\n",
    "prompt_list = text.split()\n",
    "prompt_list"
   ]
  },
  {
   "cell_type": "code",
   "execution_count": null,
   "metadata": {},
   "outputs": [],
   "source": [
    "from tqdm import tqdm\n",
    "\n",
    "for prompt in tqdm(prompt_list):\n",
    "    image = stream(prompt)\n",
    "    if image is not None:\n",
    "        display(image)"
   ]
  }
 ],
 "metadata": {
  "kernelspec": {
   "display_name": "Python 3 (ipykernel)",
   "language": "python",
   "name": "python3"
  }
 },
 "nbformat": 4,
 "nbformat_minor": 2
}
